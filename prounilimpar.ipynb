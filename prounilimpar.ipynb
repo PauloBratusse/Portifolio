{
 "cells": [
  {
   "cell_type": "code",
   "execution_count": 1,
   "id": "51d9516b",
   "metadata": {},
   "outputs": [],
   "source": [
    "import pandas as pd\n",
    "import numpy as np\n",
    "from numpy import unique\n",
    "path = 'C:/Users/paylo/Desktop/projeto1/prouni_2005_2019.csv'\n",
    "df = pd.read_csv(path,engine = 'python', encoding='utf-8')"
   ]
  },
  {
   "cell_type": "code",
   "execution_count": 2,
   "id": "c2685f82",
   "metadata": {},
   "outputs": [],
   "source": [
    "df = df.drop('CPF_BENEFICIARIO_BOLSA',axis = 1) # dropamos as colunas que nao agrega em nada e ira deixar mais rapido o script\n",
    "df = df.drop('DT_NASCIMENTO_BENEFICIARIO',axis = 1)\n",
    "df['idade'] = df['idade'].astype(int)# transformar que estava em string\n",
    "df = df.loc[(df['idade'] >= 18)] # Delimitador de idade para o estudo\n",
    "df = df.loc[(df['idade'] <= 30)]\n",
    "df = df.dropna()"
   ]
  },
  {
   "cell_type": "code",
   "execution_count": 3,
   "id": "3d1e48ac",
   "metadata": {
    "notebook.output.textLineLimit": 30
   },
   "outputs": [],
   "source": [
    "# Coleçao de funcões para limpeza dos nomes de curso, muitos vieram do csv com problemas em caracteres especiais em portugues\n",
    "# como Ç,ão,á,é etc.\n",
    "\n",
    "\n",
    "\n",
    "def troca(x,a,lista):  # funçao geral limpeza de nomes com caracteres expecificos, limpando tudo a direita desses caracterees \n",
    "    if x in lista[a]:\n",
    "        nome = lista[a]\n",
    "        nome_reduzido = nome.split(x, 1)[0]\n",
    "        lista[a] = nome_reduzido\n",
    "    return lista\n",
    "\n",
    "def troca_AA(a,lista): # notei que sempre que aparecia AA no nome era no lugar de Çã, entao essa funçao troca o AA seguido de o\n",
    "    if 'AA' in lista[a]:# para cao\n",
    "        pos_a = lista[a].index('AA')\n",
    "        indexes = []\n",
    "        count = 0\n",
    "        for c in lista[a]:\n",
    "            if c == 'o':\n",
    "                indexes.append(count)\n",
    "            count = count + 1 \n",
    "        for d in range(len(indexes)):\n",
    "            pos_o = indexes[d] \n",
    "            expected_0 = pos_a + 2\n",
    "            if expected_0  == pos_o:\n",
    "                nome = lista[a][0:pos_a] + \"ca\" + lista[a][pos_o:]\n",
    "                lista[a] = nome\n",
    "    return lista\n",
    "\n",
    "\n",
    "def troca_string(string,a,lista): # tira os espaços no meio de palavras\n",
    "    if string in lista[a].lower():\n",
    "        pos_a = lista[a].lower().index(string)\n",
    "        nome = lista[a][0:pos_a]\n",
    "        nome_reduzido = nome.split(' ', 1)[0]\n",
    "        lista[a] = nome_reduzido\n",
    "    return lista\n",
    "\n",
    "\n",
    "def troca_A3(a,lista): # novamente notei que onde aparecia a3 deveria ser o\n",
    "    if 'A3' in lista[a]:\n",
    "        pos_a = lista[a].index('A3')\n",
    "        nome = lista[a][0:pos_a] + \"o\" + lista[a][pos_a+2:]\n",
    "        lista[a] = nome\n",
    "    return lista\n",
    "            \n",
    "            \n",
    "            "
   ]
  },
  {
   "cell_type": "code",
   "execution_count": 9,
   "id": "d023c955",
   "metadata": {},
   "outputs": [],
   "source": [
    "lista =[]\n",
    "lista = df['NOME_CURSO_BOLSA'].to_list()\n",
    "for a in range(len(lista)):\n",
    "    lista[a] = lista[a].lstrip(' ')\n",
    "caracteres_ind = ['-',':','(','*']\n",
    "for a in range(len(lista)):\n",
    "    lista = troca_AA(a,lista)\n",
    "    lista = troca_AA(a,lista)\n",
    "    lista = troca_AA(a,lista)\n",
    "    lista = troca_A3(a,lista)\n",
    "    for b in range(len(caracteres_ind)):\n",
    "        troca(caracteres_ind[b],a,lista)\n",
    "        \n",
    "    lista = troca_string('ead',a,lista)\n",
    "    lista = troca_string('distancia',a,lista)\n",
    "\n",
    "    \n",
    "df = df.assign(Curso = lista )"
   ]
  },
  {
   "cell_type": "code",
   "execution_count": 8,
   "id": "21380b96",
   "metadata": {},
   "outputs": [],
   "source": [
    "\n",
    "lista2 = df['CODIGO_EMEC_IES_BOLSA'].to_list()\n",
    "lista2 = np.array(lista2)\n",
    "lista2 = unique(lista2)\n",
    "\n",
    "df2 = df.copy()\n",
    "\n",
    "unicos = list(set(df2['NOME_CURSO_BOLSA'].to_list()))\n",
    "\n",
    "for a in range(len(lista2)): # condensa os diferentes nomes de curso apos a limpeza com base no codigo do curso.\n",
    "    numero = lista2[a]\n",
    "    df2.loc[:, 'CODIGO_EMEC_IES_BOLSA'] = numero\n",
    "    lista = df2['NOME_CURSO_BOLSA'].to_list()\n",
    "    lista3 = []\n",
    "    for b in range(len(lista)):\n",
    "        lista3.append(sum(1 for c in lista[b] if c.isupper()))\n",
    "    idx_min = lista3.index(min(lista3))\n",
    "    nome_min = lista[idx_min]            \n",
    "    df.loc[df['CODIGO_EMEC_IES_BOLSA']==numero,'NOME_CURSO_BOLSA']= nome_min\n",
    "\n",
    "\n"
   ]
  },
  {
   "cell_type": "code",
   "execution_count": 7,
   "id": "efa67a58",
   "metadata": {},
   "outputs": [],
   "source": [
    "df.to_csv('C:/Users/paylo\\Desktop/projeto1/prouni_2005_2019_limpo.csv') # salva o dataframe\n"
   ]
  },
  {
   "cell_type": "code",
   "execution_count": null,
   "id": "1fad732c",
   "metadata": {},
   "outputs": [],
   "source": [
    "\n",
    "            "
   ]
  },
  {
   "cell_type": "code",
   "execution_count": null,
   "id": "5cf43b28",
   "metadata": {},
   "outputs": [],
   "source": []
  }
 ],
 "metadata": {
  "celltoolbar": "Raw Cell Format",
  "kernelspec": {
   "display_name": "Python 3 (ipykernel)",
   "language": "python",
   "name": "python3"
  },
  "language_info": {
   "codemirror_mode": {
    "name": "ipython",
    "version": 3
   },
   "file_extension": ".py",
   "mimetype": "text/x-python",
   "name": "python",
   "nbconvert_exporter": "python",
   "pygments_lexer": "ipython3",
   "version": "3.11.5"
  }
 },
 "nbformat": 4,
 "nbformat_minor": 5
}
